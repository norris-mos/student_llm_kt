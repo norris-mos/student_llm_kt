{
 "cells": [
  {
   "cell_type": "code",
   "execution_count": 1,
   "metadata": {},
   "outputs": [],
   "source": [
    "%load_ext autoreload\n",
    "%autoreload 2"
   ]
  },
  {
   "cell_type": "code",
   "execution_count": 2,
   "metadata": {},
   "outputs": [
    {
     "name": "stderr",
     "output_type": "stream",
     "text": [
      "/opt/conda/envs/unsloth_env/lib/python3.10/site-packages/tqdm/auto.py:21: TqdmWarning: IProgress not found. Please update jupyter and ipywidgets. See https://ipywidgets.readthedocs.io/en/stable/user_install.html\n",
      "  from .autonotebook import tqdm as notebook_tqdm\n"
     ]
    },
    {
     "name": "stdout",
     "output_type": "stream",
     "text": [
      "🦥 Unsloth: Will patch your computer to enable 2x faster free finetuning.\n",
      "🦥 Unsloth Zoo will now patch everything to make training faster!\n"
     ]
    }
   ],
   "source": [
    "import sys \n",
    "sys.path.append('/mnt/ceph_rbd/LoRa/student_llm_kt/src')\n",
    "sys.path.append('/mnt/ceph_rbd/LoRa/student_llm_kt/src/DKT_src')\n",
    "\n",
    "from LoRa_preprocessing import StudentInteractionsDataset, DataFrame2InteractionDictionary,load_data\n",
    "from dataloader_new import SequenceDataset, options_dataloader_preproc_process\n",
    "answers,questions,misconceptions,question_subject = load_data('/mnt/ceph_rbd/LoRa/data')\n",
    "from torch.utils.data import DataLoader\n",
    "from unsloth import FastLanguageModel, is_bfloat16_supported"
   ]
  },
  {
   "cell_type": "code",
   "execution_count": 3,
   "metadata": {},
   "outputs": [
    {
     "name": "stdout",
     "output_type": "stream",
     "text": [
      "1657\n",
      "Total users: 39873\n",
      "Train users: 35885 (90.0%)\n",
      "Test users: 3988 (10.0%)\n",
      "Number of QuestionIds is 1658\n",
      "Number of quizzes is 555\n"
     ]
    }
   ],
   "source": [
    "\n",
    "data = DataFrame2InteractionDictionary(answers, questions, misconceptions, question_subject, train_split=0.9)"
   ]
  },
  {
   "cell_type": "code",
   "execution_count": null,
   "metadata": {},
   "outputs": [],
   "source": [
    "si = data.merge[data.merge['UserId']==0].sort_values(by='DateAnswered').reset_index(drop=True)"
   ]
  },
  {
   "cell_type": "code",
   "execution_count": null,
   "metadata": {},
   "outputs": [],
   "source": [
    "si"
   ]
  },
  {
   "cell_type": "code",
   "execution_count": 5,
   "metadata": {},
   "outputs": [
    {
     "name": "stdout",
     "output_type": "stream",
     "text": [
      "HISTORY []\n",
      "TEST Q How should you write the solution to the following inequality?\n",
      "\\[\n",
      "2 x<9\n",
      "\\]\n",
      "HISTORY ['DATE-TIME: 2023-02-13 15:32:30.147\\nQUESTIONID: 95\\nQUESTION: How should you write the solution to the following inequality?\\n\\\\[\\n2 x<9\\n\\\\]\\nCONSTRUCT_NAME: Solve one-step linear inequalities in one variable where the variable appears on one side of the equation\\nOPTIONS: A=\\\\( x<4.5 \\\\) B=\\\\( x>4.5 \\\\) C=\\\\( x=4.5 \\\\) D=\\\\( x<4 \\\\)\\nUSER_ANSWER: C\\nCORRECT_ANSWER: A\\nQUESTION_CORRECT: False']\n",
      "TEST Q How should you write the solution to the following inequality?\n",
      "\\[\n",
      "2 x<9\n",
      "\\]\n",
      "HISTORY ['DATE-TIME: 2023-02-13 15:32:30.147\\nQUESTIONID: 95\\nQUESTION: How should you write the solution to the following inequality?\\n\\\\[\\n2 x<9\\n\\\\]\\nCONSTRUCT_NAME: Solve one-step linear inequalities in one variable where the variable appears on one side of the equation\\nOPTIONS: A=\\\\( x<4.5 \\\\) B=\\\\( x>4.5 \\\\) C=\\\\( x=4.5 \\\\) D=\\\\( x<4 \\\\)\\nUSER_ANSWER: C\\nCORRECT_ANSWER: A\\nQUESTION_CORRECT: False', 'DATE-TIME: 2023-02-13 15:32:55.793\\nQUESTIONID: 95\\nQUESTION: How should you write the solution to the following inequality?\\n\\\\[\\n2 x<9\\n\\\\]\\nCONSTRUCT_NAME: Solve one-step linear inequalities in one variable where the variable appears on one side of the equation\\nOPTIONS: A=\\\\( x<4.5 \\\\) B=\\\\( x>4.5 \\\\) C=\\\\( x=4.5 \\\\) D=\\\\( x<4 \\\\)\\nUSER_ANSWER: B\\nCORRECT_ANSWER: A\\nQUESTION_CORRECT: False']\n",
      "TEST Q How should you write the solution to the following inequality?\n",
      "\\(2 x>7\\)\n",
      "HISTORY ['DATE-TIME: 2023-02-13 15:32:30.147\\nQUESTIONID: 95\\nQUESTION: How should you write the solution to the following inequality?\\n\\\\[\\n2 x<9\\n\\\\]\\nCONSTRUCT_NAME: Solve one-step linear inequalities in one variable where the variable appears on one side of the equation\\nOPTIONS: A=\\\\( x<4.5 \\\\) B=\\\\( x>4.5 \\\\) C=\\\\( x=4.5 \\\\) D=\\\\( x<4 \\\\)\\nUSER_ANSWER: C\\nCORRECT_ANSWER: A\\nQUESTION_CORRECT: False', 'DATE-TIME: 2023-02-13 15:32:55.793\\nQUESTIONID: 95\\nQUESTION: How should you write the solution to the following inequality?\\n\\\\[\\n2 x<9\\n\\\\]\\nCONSTRUCT_NAME: Solve one-step linear inequalities in one variable where the variable appears on one side of the equation\\nOPTIONS: A=\\\\( x<4.5 \\\\) B=\\\\( x>4.5 \\\\) C=\\\\( x=4.5 \\\\) D=\\\\( x<4 \\\\)\\nUSER_ANSWER: B\\nCORRECT_ANSWER: A\\nQUESTION_CORRECT: False', 'DATE-TIME: 2023-02-15 18:22:52.347\\nQUESTIONID: 1352\\nQUESTION: How should you write the solution to the following inequality?\\n\\\\(2 x>7\\\\)\\nCONSTRUCT_NAME: Solve one-step linear inequalities in one variable where the variable appears on one side of the equation\\nOPTIONS: A=\\\\( x>4 \\\\) B=\\\\( x=3.5 \\\\) C=\\\\( x<3.5 \\\\) D=\\\\( x>3.5 \\\\)\\nUSER_ANSWER: B\\nCORRECT_ANSWER: D\\nQUESTION_CORRECT: False']\n",
      "TEST Q How should you write the solution to the following inequality?\n",
      "\\(2 x>7\\)\n",
      "HISTORY ['DATE-TIME: 2023-02-13 15:32:30.147\\nQUESTIONID: 95\\nQUESTION: How should you write the solution to the following inequality?\\n\\\\[\\n2 x<9\\n\\\\]\\nCONSTRUCT_NAME: Solve one-step linear inequalities in one variable where the variable appears on one side of the equation\\nOPTIONS: A=\\\\( x<4.5 \\\\) B=\\\\( x>4.5 \\\\) C=\\\\( x=4.5 \\\\) D=\\\\( x<4 \\\\)\\nUSER_ANSWER: C\\nCORRECT_ANSWER: A\\nQUESTION_CORRECT: False', 'DATE-TIME: 2023-02-13 15:32:55.793\\nQUESTIONID: 95\\nQUESTION: How should you write the solution to the following inequality?\\n\\\\[\\n2 x<9\\n\\\\]\\nCONSTRUCT_NAME: Solve one-step linear inequalities in one variable where the variable appears on one side of the equation\\nOPTIONS: A=\\\\( x<4.5 \\\\) B=\\\\( x>4.5 \\\\) C=\\\\( x=4.5 \\\\) D=\\\\( x<4 \\\\)\\nUSER_ANSWER: B\\nCORRECT_ANSWER: A\\nQUESTION_CORRECT: False', 'DATE-TIME: 2023-02-15 18:22:52.347\\nQUESTIONID: 1352\\nQUESTION: How should you write the solution to the following inequality?\\n\\\\(2 x>7\\\\)\\nCONSTRUCT_NAME: Solve one-step linear inequalities in one variable where the variable appears on one side of the equation\\nOPTIONS: A=\\\\( x>4 \\\\) B=\\\\( x=3.5 \\\\) C=\\\\( x<3.5 \\\\) D=\\\\( x>3.5 \\\\)\\nUSER_ANSWER: B\\nCORRECT_ANSWER: D\\nQUESTION_CORRECT: False', 'DATE-TIME: 2023-02-15 18:24:11.947\\nQUESTIONID: 1352\\nQUESTION: How should you write the solution to the following inequality?\\n\\\\(2 x>7\\\\)\\nCONSTRUCT_NAME: Solve one-step linear inequalities in one variable where the variable appears on one side of the equation\\nOPTIONS: A=\\\\( x>4 \\\\) B=\\\\( x=3.5 \\\\) C=\\\\( x<3.5 \\\\) D=\\\\( x>3.5 \\\\)\\nUSER_ANSWER: D\\nCORRECT_ANSWER: D\\nQUESTION_CORRECT: True']\n",
      "TEST Q Tom and Katie are arguing about the solution to this inequality:\n",
      "\\[\n",
      "15 \\geq 4 m\n",
      "\\]\n",
      "\n",
      "Tom says \\( m \\) could be \\( 4 \\)\n",
      "\n",
      "Katie says \\( m \\) could be \\( 3.75 \\)\n",
      "\n",
      "Who is correct?\n",
      "HISTORY ['DATE-TIME: 2023-02-13 15:32:30.147\\nQUESTIONID: 95\\nQUESTION: How should you write the solution to the following inequality?\\n\\\\[\\n2 x<9\\n\\\\]\\nCONSTRUCT_NAME: Solve one-step linear inequalities in one variable where the variable appears on one side of the equation\\nOPTIONS: A=\\\\( x<4.5 \\\\) B=\\\\( x>4.5 \\\\) C=\\\\( x=4.5 \\\\) D=\\\\( x<4 \\\\)\\nUSER_ANSWER: C\\nCORRECT_ANSWER: A\\nQUESTION_CORRECT: False', 'DATE-TIME: 2023-02-13 15:32:55.793\\nQUESTIONID: 95\\nQUESTION: How should you write the solution to the following inequality?\\n\\\\[\\n2 x<9\\n\\\\]\\nCONSTRUCT_NAME: Solve one-step linear inequalities in one variable where the variable appears on one side of the equation\\nOPTIONS: A=\\\\( x<4.5 \\\\) B=\\\\( x>4.5 \\\\) C=\\\\( x=4.5 \\\\) D=\\\\( x<4 \\\\)\\nUSER_ANSWER: B\\nCORRECT_ANSWER: A\\nQUESTION_CORRECT: False', 'DATE-TIME: 2023-02-15 18:22:52.347\\nQUESTIONID: 1352\\nQUESTION: How should you write the solution to the following inequality?\\n\\\\(2 x>7\\\\)\\nCONSTRUCT_NAME: Solve one-step linear inequalities in one variable where the variable appears on one side of the equation\\nOPTIONS: A=\\\\( x>4 \\\\) B=\\\\( x=3.5 \\\\) C=\\\\( x<3.5 \\\\) D=\\\\( x>3.5 \\\\)\\nUSER_ANSWER: B\\nCORRECT_ANSWER: D\\nQUESTION_CORRECT: False', 'DATE-TIME: 2023-02-15 18:24:11.947\\nQUESTIONID: 1352\\nQUESTION: How should you write the solution to the following inequality?\\n\\\\(2 x>7\\\\)\\nCONSTRUCT_NAME: Solve one-step linear inequalities in one variable where the variable appears on one side of the equation\\nOPTIONS: A=\\\\( x>4 \\\\) B=\\\\( x=3.5 \\\\) C=\\\\( x<3.5 \\\\) D=\\\\( x>3.5 \\\\)\\nUSER_ANSWER: D\\nCORRECT_ANSWER: D\\nQUESTION_CORRECT: True', 'DATE-TIME: 2023-02-15 18:27:04.440\\nQUESTIONID: 335\\nQUESTION: Tom and Katie are arguing about the solution to this inequality:\\n\\\\[\\n15 \\\\geq 4 m\\n\\\\]\\n\\nTom says \\\\( m \\\\) could be \\\\( 4 \\\\)\\n\\nKatie says \\\\( m \\\\) could be \\\\( 3.75 \\\\)\\n\\nWho is correct?\\nCONSTRUCT_NAME: Solve one-step linear inequalities in one variable where the variable appears on one side of the equation\\nOPTIONS: A=Only Tom B=Only Katie C=Both Tom and Katie D=Neither is correct\\nUSER_ANSWER: B\\nCORRECT_ANSWER: B\\nQUESTION_CORRECT: True']\n",
      "TEST Q Solve the inequality:\n",
      "\\(-3>p-1\\)\n",
      "HISTORY ['DATE-TIME: 2023-02-13 15:32:30.147\\nQUESTIONID: 95\\nQUESTION: How should you write the solution to the following inequality?\\n\\\\[\\n2 x<9\\n\\\\]\\nCONSTRUCT_NAME: Solve one-step linear inequalities in one variable where the variable appears on one side of the equation\\nOPTIONS: A=\\\\( x<4.5 \\\\) B=\\\\( x>4.5 \\\\) C=\\\\( x=4.5 \\\\) D=\\\\( x<4 \\\\)\\nUSER_ANSWER: C\\nCORRECT_ANSWER: A\\nQUESTION_CORRECT: False', 'DATE-TIME: 2023-02-13 15:32:55.793\\nQUESTIONID: 95\\nQUESTION: How should you write the solution to the following inequality?\\n\\\\[\\n2 x<9\\n\\\\]\\nCONSTRUCT_NAME: Solve one-step linear inequalities in one variable where the variable appears on one side of the equation\\nOPTIONS: A=\\\\( x<4.5 \\\\) B=\\\\( x>4.5 \\\\) C=\\\\( x=4.5 \\\\) D=\\\\( x<4 \\\\)\\nUSER_ANSWER: B\\nCORRECT_ANSWER: A\\nQUESTION_CORRECT: False', 'DATE-TIME: 2023-02-15 18:22:52.347\\nQUESTIONID: 1352\\nQUESTION: How should you write the solution to the following inequality?\\n\\\\(2 x>7\\\\)\\nCONSTRUCT_NAME: Solve one-step linear inequalities in one variable where the variable appears on one side of the equation\\nOPTIONS: A=\\\\( x>4 \\\\) B=\\\\( x=3.5 \\\\) C=\\\\( x<3.5 \\\\) D=\\\\( x>3.5 \\\\)\\nUSER_ANSWER: B\\nCORRECT_ANSWER: D\\nQUESTION_CORRECT: False', 'DATE-TIME: 2023-02-15 18:24:11.947\\nQUESTIONID: 1352\\nQUESTION: How should you write the solution to the following inequality?\\n\\\\(2 x>7\\\\)\\nCONSTRUCT_NAME: Solve one-step linear inequalities in one variable where the variable appears on one side of the equation\\nOPTIONS: A=\\\\( x>4 \\\\) B=\\\\( x=3.5 \\\\) C=\\\\( x<3.5 \\\\) D=\\\\( x>3.5 \\\\)\\nUSER_ANSWER: D\\nCORRECT_ANSWER: D\\nQUESTION_CORRECT: True', 'DATE-TIME: 2023-02-15 18:27:04.440\\nQUESTIONID: 335\\nQUESTION: Tom and Katie are arguing about the solution to this inequality:\\n\\\\[\\n15 \\\\geq 4 m\\n\\\\]\\n\\nTom says \\\\( m \\\\) could be \\\\( 4 \\\\)\\n\\nKatie says \\\\( m \\\\) could be \\\\( 3.75 \\\\)\\n\\nWho is correct?\\nCONSTRUCT_NAME: Solve one-step linear inequalities in one variable where the variable appears on one side of the equation\\nOPTIONS: A=Only Tom B=Only Katie C=Both Tom and Katie D=Neither is correct\\nUSER_ANSWER: B\\nCORRECT_ANSWER: B\\nQUESTION_CORRECT: True', 'DATE-TIME: 2023-02-15 18:29:37.727\\nQUESTIONID: 336\\nQUESTION: Solve the inequality:\\n\\\\(-3>p-1\\\\)\\nCONSTRUCT_NAME: Solve one-step linear inequalities in one variable where the variable appears on one side of the equation\\nOPTIONS: A=\\\\( p<-4 \\\\) B=\\\\( p>-4 \\\\) C=\\\\( p>-2 \\\\) D=\\\\( p<-2 \\\\)\\nUSER_ANSWER: C\\nCORRECT_ANSWER: D\\nQUESTION_CORRECT: False']\n",
      "TEST Q Solve the inequality:\n",
      "\\(-3>p-1\\)\n"
     ]
    },
    {
     "ename": "NameError",
     "evalue": "name 'exit' is not defined",
     "output_type": "error",
     "traceback": [
      "\u001b[0;31m---------------------------------------------------------------------------\u001b[0m",
      "\u001b[0;31mNameError\u001b[0m                                 Traceback (most recent call last)",
      "Cell \u001b[0;32mIn[5], line 1\u001b[0m\n\u001b[0;32m----> 1\u001b[0m \u001b[43mdata\u001b[49m\u001b[38;5;241;43m.\u001b[39;49m\u001b[43mcreateTestDict\u001b[49m\u001b[43m(\u001b[49m\u001b[43m)\u001b[49m\n",
      "File \u001b[0;32m/mnt/ceph_rbd/student_llm_kt/src/LoRa_preprocessing.py:143\u001b[0m, in \u001b[0;36mDataFrame2InteractionDictionary.createTestDict\u001b[0;34m(self, include_fields)\u001b[0m\n\u001b[1;32m    130\u001b[0m      \u001b[38;5;28mprint\u001b[39m(\u001b[38;5;124mf\u001b[39m\u001b[38;5;124m\"\u001b[39m\u001b[38;5;124mTEST Q \u001b[39m\u001b[38;5;132;01m{\u001b[39;00mrow\u001b[38;5;241m.\u001b[39mQuestionText\u001b[38;5;132;01m}\u001b[39;00m\u001b[38;5;124m\"\u001b[39m)\n\u001b[1;32m    137\u001b[0m      \u001b[38;5;28mself\u001b[39m\u001b[38;5;241m.\u001b[39mtest_dictionary[interaction_counter] \u001b[38;5;241m=\u001b[39m {\u001b[38;5;124m'\u001b[39m\u001b[38;5;124mhistory\u001b[39m\u001b[38;5;124m'\u001b[39m:history,\n\u001b[1;32m    138\u001b[0m                                                         \u001b[38;5;124m'\u001b[39m\u001b[38;5;124mquestion\u001b[39m\u001b[38;5;124m'\u001b[39m:row\u001b[38;5;241m.\u001b[39mQuestionText,\n\u001b[1;32m    139\u001b[0m                                                         \u001b[38;5;124m'\u001b[39m\u001b[38;5;124moptions\u001b[39m\u001b[38;5;124m'\u001b[39m:{\u001b[38;5;124m'\u001b[39m\u001b[38;5;124mA\u001b[39m\u001b[38;5;124m'\u001b[39m:row\u001b[38;5;241m.\u001b[39mAnswerAText,\u001b[38;5;124m'\u001b[39m\u001b[38;5;124mB\u001b[39m\u001b[38;5;124m'\u001b[39m:row\u001b[38;5;241m.\u001b[39mAnswerBText,\u001b[38;5;124m'\u001b[39m\u001b[38;5;124mC\u001b[39m\u001b[38;5;124m'\u001b[39m:row\u001b[38;5;241m.\u001b[39mAnswerCText,\u001b[38;5;124m'\u001b[39m\u001b[38;5;124mD\u001b[39m\u001b[38;5;124m'\u001b[39m:row\u001b[38;5;241m.\u001b[39mAnswerDText},\n\u001b[1;32m    140\u001b[0m                                                         \u001b[38;5;124m'\u001b[39m\u001b[38;5;124mcorrect_answer\u001b[39m\u001b[38;5;124m'\u001b[39m:\u001b[38;5;28mself\u001b[39m\u001b[38;5;241m.\u001b[39mnum2option(row\u001b[38;5;241m.\u001b[39mAnswerValue)\n\u001b[1;32m    141\u001b[0m \n\u001b[1;32m    142\u001b[0m                         }\n\u001b[0;32m--> 143\u001b[0m \u001b[43mexit\u001b[49m()\n",
      "\u001b[0;31mNameError\u001b[0m: name 'exit' is not defined"
     ]
    }
   ],
   "source": [
    "data.createTestDict()"
   ]
  },
  {
   "cell_type": "code",
   "execution_count": null,
   "metadata": {},
   "outputs": [],
   "source": [
    "data.test_dictionary[11]"
   ]
  },
  {
   "cell_type": "code",
   "execution_count": null,
   "metadata": {},
   "outputs": [],
   "source": [
    "data.createTrainDictionaryBinary(567234567890)"
   ]
  },
  {
   "cell_type": "code",
   "execution_count": null,
   "metadata": {},
   "outputs": [],
   "source": [
    "data.createTestDictBinary()"
   ]
  },
  {
   "cell_type": "code",
   "execution_count": null,
   "metadata": {},
   "outputs": [],
   "source": [
    "\n",
    "        # Model initialization parameters\n",
    "model, tokenizer = FastLanguageModel.from_pretrained(\n",
    "        model_name=\"unsloth/Qwen2.5-7B\",\n",
    "        max_seq_length=40000,\n",
    "        dtype=None,  # None for auto detection\n",
    "        load_in_4bit=True,\n",
    "        token=None\n",
    "    )\n"
   ]
  },
  {
   "cell_type": "code",
   "execution_count": null,
   "metadata": {},
   "outputs": [],
   "source": [
    "test = StudentInteractionsDataset(data.tr_dictionary, tokenizer, 8498578498, cache_path='/mnt/ceph_rbd/data/interaction_dictionaries/filtered_interaction_dictionaries/train_lora_binary_0.9.pt')"
   ]
  },
  {
   "cell_type": "code",
   "execution_count": null,
   "metadata": {},
   "outputs": [],
   "source": [
    "print(test.__getitemBinary__(5))"
   ]
  },
  {
   "cell_type": "code",
   "execution_count": null,
   "metadata": {},
   "outputs": [],
   "source": [
    "\n",
    "loaded_dict = 1\n",
    "\n",
    "dataset = StudentInteractionsDataset(\n",
    "        loaded_dict,\n",
    "        tokenizer,\n",
    "        40000,\n",
    "        \"/mnt/ceph_rbd/data/interaction_dictionaries/filtered_interaction_dictionaries/train_lora_qwen_0.9.pt\"\n",
    "    )"
   ]
  },
  {
   "cell_type": "code",
   "execution_count": null,
   "metadata": {},
   "outputs": [],
   "source": [
    "print(dataset.__getitem__(4))"
   ]
  },
  {
   "cell_type": "code",
   "execution_count": null,
   "metadata": {},
   "outputs": [],
   "source": []
  }
 ],
 "metadata": {
  "kernelspec": {
   "display_name": "unsloth_env",
   "language": "python",
   "name": "python3"
  },
  "language_info": {
   "codemirror_mode": {
    "name": "ipython",
    "version": 3
   },
   "file_extension": ".py",
   "mimetype": "text/x-python",
   "name": "python",
   "nbconvert_exporter": "python",
   "pygments_lexer": "ipython3",
   "version": "3.10.16"
  }
 },
 "nbformat": 4,
 "nbformat_minor": 2
}
